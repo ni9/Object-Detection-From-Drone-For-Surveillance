{
  "nbformat": 4,
  "nbformat_minor": 0,
  "metadata": {
    "colab": {
      "provenance": []
    },
    "kernelspec": {
      "name": "python3",
      "display_name": "Python 3"
    },
    "language_info": {
      "name": "python"
    }
  },
  "cells": [
    {
      "cell_type": "code",
      "source": [
        "# Clone the retinanet keras implementation\n",
        "\n",
        "!git clone https://github.com/fizyr/keras-retinanet.git"
      ],
      "metadata": {
        "colab": {
          "base_uri": "https://localhost:8080/"
        },
        "id": "G5x_ehzc9Grn",
        "outputId": "0a99b60a-a3a5-45bc-ea50-abea92090ea4"
      },
      "execution_count": null,
      "outputs": [
        {
          "output_type": "stream",
          "name": "stdout",
          "text": [
            "Cloning into 'keras-retinanet'...\n",
            "remote: Enumerating objects: 6224, done.\u001b[K\n",
            "remote: Counting objects: 100% (19/19), done.\u001b[K\n",
            "remote: Compressing objects: 100% (17/17), done.\u001b[K\n",
            "remote: Total 6224 (delta 6), reused 6 (delta 2), pack-reused 6205\u001b[K\n",
            "Receiving objects: 100% (6224/6224), 13.48 MiB | 17.00 MiB/s, done.\n",
            "Resolving deltas: 100% (4207/4207), done.\n"
          ]
        }
      ]
    },
    {
      "cell_type": "code",
      "source": [
        "# Install dependencies\n",
        "\n",
        "%cd keras-retinanet/\n",
        "!pip install ."
      ],
      "metadata": {
        "colab": {
          "base_uri": "https://localhost:8080/"
        },
        "id": "nH8w0xQg9IEq",
        "outputId": "8c2597c0-84dd-4bd3-ce5c-6b9419702c0b"
      },
      "execution_count": null,
      "outputs": [
        {
          "output_type": "stream",
          "name": "stdout",
          "text": [
            "/content/keras-retinanet\n",
            "Looking in indexes: https://pypi.org/simple, https://us-python.pkg.dev/colab-wheels/public/simple/\n",
            "Processing /content/keras-retinanet\n",
            "  Preparing metadata (setup.py) ... \u001b[?25l\u001b[?25hdone\n",
            "Collecting keras-resnet==0.2.0\n",
            "  Downloading keras-resnet-0.2.0.tar.gz (9.3 kB)\n",
            "  Preparing metadata (setup.py) ... \u001b[?25l\u001b[?25hdone\n",
            "Requirement already satisfied: six in /usr/local/lib/python3.9/dist-packages (from keras-retinanet==1.0.0) (1.16.0)\n",
            "Requirement already satisfied: numpy in /usr/local/lib/python3.9/dist-packages (from keras-retinanet==1.0.0) (1.22.4)\n",
            "Requirement already satisfied: cython in /usr/local/lib/python3.9/dist-packages (from keras-retinanet==1.0.0) (0.29.34)\n",
            "Requirement already satisfied: Pillow in /usr/local/lib/python3.9/dist-packages (from keras-retinanet==1.0.0) (8.4.0)\n",
            "Requirement already satisfied: opencv-python in /usr/local/lib/python3.9/dist-packages (from keras-retinanet==1.0.0) (4.7.0.72)\n",
            "Requirement already satisfied: progressbar2 in /usr/local/lib/python3.9/dist-packages (from keras-retinanet==1.0.0) (4.2.0)\n",
            "Requirement already satisfied: keras>=2.2.4 in /usr/local/lib/python3.9/dist-packages (from keras-resnet==0.2.0->keras-retinanet==1.0.0) (2.12.0)\n",
            "Requirement already satisfied: python-utils>=3.0.0 in /usr/local/lib/python3.9/dist-packages (from progressbar2->keras-retinanet==1.0.0) (3.5.2)\n",
            "Building wheels for collected packages: keras-retinanet, keras-resnet\n",
            "  Building wheel for keras-retinanet (setup.py) ... \u001b[?25l\u001b[?25hdone\n",
            "  Created wheel for keras-retinanet: filename=keras_retinanet-1.0.0-cp39-cp39-linux_x86_64.whl size=180820 sha256=95784557091d3ba4f6f17fc23b738f7ac0200150d9a6ab96b8fdc32e9d77088c\n",
            "  Stored in directory: /root/.cache/pip/wheels/3f/be/fa/528d5f2773281e6dd7795aa3039aea5a871e02ab5491117ad7\n",
            "  Building wheel for keras-resnet (setup.py) ... \u001b[?25l\u001b[?25hdone\n",
            "  Created wheel for keras-resnet: filename=keras_resnet-0.2.0-py2.py3-none-any.whl size=20484 sha256=8c2144c27ecf7c28e7e763a8f4febbebe617c5d46af36e7db37fe33f9df5f934\n",
            "  Stored in directory: /root/.cache/pip/wheels/53/ed/ef/144804f160c278c80d6429c97ed126b61276721894ce64cccc\n",
            "Successfully built keras-retinanet keras-resnet\n",
            "Installing collected packages: keras-resnet, keras-retinanet\n",
            "Successfully installed keras-resnet-0.2.0 keras-retinanet-1.0.0\n"
          ]
        }
      ]
    },
    {
      "cell_type": "code",
      "source": [
        "import csv\n",
        "\n",
        "# Define the paths to your annotation file and classes file\n",
        "annotation_path = '/path/to/annotations.txt'\n",
        "classes_path = '/path/to/classes.csv'\n",
        "\n",
        "# Define the path to save the output CSV file\n",
        "output_path = '/path/to/output.csv'\n",
        "\n",
        "# Read the class names from the classes file\n",
        "with open(classes_path, 'r') as f:\n",
        "    class_names = list(csv.reader(f))[0]\n",
        "\n",
        "# Initialize a list to store the annotations\n",
        "annotations = []\n",
        "\n",
        "# Read the annotations from the annotation file\n",
        "with open(annotation_path, 'r') as f:\n",
        "    for line in f:\n",
        "        # Split the line into components\n",
        "        parts = line.strip().split(' ')\n",
        "\n",
        "        # Extract the filename and class label\n",
        "        filename = parts[0]\n",
        "        class_label = int(parts[1])\n",
        "\n",
        "        # Extract the bounding box coordinates\n",
        "        xmin, ymin, xmax, ymax = map(float, parts[2:])\n",
        "\n",
        "        # Create a new row for this annotation\n",
        "        row = [\n",
        "            filename,\n",
        "            str(xmin),\n",
        "            str(ymin),\n",
        "            str(xmax),\n",
        "            str(ymax),\n",
        "            class_names[class_label]\n",
        "        ]\n",
        "\n",
        "        # Add the row to the list of annotations\n",
        "        annotations.append(row)\n",
        "\n",
        "# Write the annotations to the output CSV file\n",
        "with open(output_path, 'w', newline='') as f:\n",
        "    writer = csv.writer(f)\n",
        "\n",
        "    # Write the header row\n",
        "    writer.writerow(['path', 'xmin', 'ymin', 'xmax', 'ymax', 'class'])\n",
        "\n",
        "    # Write the annotation rows\n",
        "    writer.writerows(annotations)"
      ],
      "metadata": {
        "colab": {
          "base_uri": "https://localhost:8080/"
        },
        "id": "QucKHgaAGKku",
        "outputId": "3887ccd2-fb35-42fc-a1ef-5f8d7521b4d7"
      },
      "execution_count": null,
      "outputs": [
        {
          "output_type": "stream",
          "name": "stdout",
          "text": [
            "/content/keras-retinanet\n"
          ]
        }
      ]
    }
  ]
}