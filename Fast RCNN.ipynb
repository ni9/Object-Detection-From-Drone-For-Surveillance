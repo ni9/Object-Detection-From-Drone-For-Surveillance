{
 "cells": [
  {
   "cell_type": "code",
   "execution_count": null,
   "id": "243ea864",
   "metadata": {},
   "outputs": [],
   "source": [
    "# Steps for pre-processing\n",
    "    # data-cleaning\n",
    "    # Feature Selection & Reduction (via compression) -- PCA, etc...\n",
    "    # Normailse"
   ]
  },
  {
   "cell_type": "code",
   "execution_count": null,
   "id": "9d287699",
   "metadata": {},
   "outputs": [],
   "source": [
    "# Train"
   ]
  },
  {
   "cell_type": "code",
   "execution_count": null,
   "id": "98ad3613",
   "metadata": {},
   "outputs": [],
   "source": [
    "# Validate\n",
    "    # hyperparameters tuning\n",
    "    # K Fold CV or LOSO\n",
    "    # Accuracy, Precision, F1 Score and Recall"
   ]
  },
  {
   "cell_type": "code",
   "execution_count": 1,
   "id": "7b99c235",
   "metadata": {},
   "outputs": [],
   "source": [
    "# Test"
   ]
  },
  {
   "cell_type": "code",
   "execution_count": 2,
   "id": "b8ae45f2",
   "metadata": {},
   "outputs": [],
   "source": [
    "# Graphical presentation "
   ]
  },
  {
   "cell_type": "code",
   "execution_count": null,
   "id": "c10321ce",
   "metadata": {},
   "outputs": [],
   "source": [
    "# Graphical Comparison"
   ]
  },
  {
   "cell_type": "code",
   "execution_count": null,
   "id": "203fc872",
   "metadata": {},
   "outputs": [],
   "source": []
  }
 ],
 "metadata": {
  "kernelspec": {
   "display_name": "Python 3 (ipykernel)",
   "language": "python",
   "name": "python3"
  },
  "language_info": {
   "codemirror_mode": {
    "name": "ipython",
    "version": 3
   },
   "file_extension": ".py",
   "mimetype": "text/x-python",
   "name": "python",
   "nbconvert_exporter": "python",
   "pygments_lexer": "ipython3",
   "version": "3.9.12"
  }
 },
 "nbformat": 4,
 "nbformat_minor": 5
}
